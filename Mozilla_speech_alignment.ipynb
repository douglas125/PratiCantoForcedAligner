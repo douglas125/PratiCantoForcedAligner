{
 "cells": [
  {
   "cell_type": "markdown",
   "id": "cade1a73-8eb9-40b2-88e0-9c1c4036b0a3",
   "metadata": {},
   "source": [
    "# Reader for Mozilla Common Voices Dataset\n",
    "\n",
    "https://commonvoice.mozilla.org/en/datasets"
   ]
  },
  {
   "cell_type": "code",
   "execution_count": null,
   "id": "2b1463d4-8865-4264-8539-6c64199e51a7",
   "metadata": {},
   "outputs": [],
   "source": [
    "import os\n",
    "import IPython.display as ipd\n",
    "\n",
    "import tensorflow as tf\n",
    "import tensorflow_io as tfio\n",
    "\n",
    "%load_ext autoreload\n",
    "%autoreload 2\n",
    "\n",
    "from data_readers.mozilla_speech_reader import AudioTarReader  # noqa\n",
    "\n",
    "using_colab = False\n",
    "if using_colab:\n",
    "    %pip install pandas -q\n",
    "    %pip install tqdm -q\n",
    "    %pip install ipywidgets -q\n",
    "    # watch this for the correct version 0.21.0 for tf 2.6, 0.24.0 for tf 2.8\n",
    "    %pip install tensorflow-io==0.24.0 -q\n",
    "\n",
    "os.environ['CUDA_VISIBLE_DEVICES'] = '-1'"
   ]
  },
  {
   "cell_type": "code",
   "execution_count": null,
   "id": "8aec5a72-73e6-45cb-aa37-79a5eee94b08",
   "metadata": {},
   "outputs": [],
   "source": [
    "file = 'data/cv-corpus-8.0-2022-01-19-pt.tar.gz'\n",
    "atr = AudioTarReader(file)"
   ]
  },
  {
   "cell_type": "code",
   "execution_count": null,
   "id": "4f7e1660-020d-4b14-9fca-0f65094c50aa",
   "metadata": {},
   "outputs": [],
   "source": [
    "data_file = 'validated_not_traintest.tfrecords'\n",
    "if not os.path.isfile(data_file)\n",
    "    atr.write_tfrecords_file(data_file)"
   ]
  },
  {
   "cell_type": "code",
   "execution_count": null,
   "id": "19aa5a39-6ffd-4e99-9489-ae8418927541",
   "metadata": {},
   "outputs": [],
   "source": [
    "dataset = tf.data.TFRecordDataset(\n",
    "    'validated_not_traintest.tfrecords'\n",
    ").map(AudioTarReader.deserialize)"
   ]
  },
  {
   "cell_type": "code",
   "execution_count": null,
   "id": "9b8bc4a6-0bd0-4f84-ba3d-1b7613d24799",
   "metadata": {},
   "outputs": [],
   "source": [
    "sample = [x for x in dataset.skip(3).take(1)][0]"
   ]
  },
  {
   "cell_type": "code",
   "execution_count": null,
   "id": "aa4f4eff-10dc-4710-bb81-a1a86165df19",
   "metadata": {},
   "outputs": [],
   "source": [
    "print(sample[1].numpy().decode('UTF-8'), sample[2:])\n",
    "ipd.Audio(sample[0][:, 0].numpy(), rate=48000)"
   ]
  },
  {
   "cell_type": "markdown",
   "id": "c810f0f2-8d6c-47e5-a6a2-4739165d2038",
   "metadata": {},
   "source": [
    "## Check marked strings\n",
    "\n",
    "Like á, ó, etc"
   ]
  },
  {
   "cell_type": "code",
   "execution_count": null,
   "id": "f1565533-046a-4ace-ac40-534205630495",
   "metadata": {},
   "outputs": [],
   "source": [
    "v = tf.concat([['[BOS]'], tf.strings.unicode_split(sample[1], 'UTF-8'), ['[EOS]']], axis=0)\n",
    "print(atr.lookup_inv(atr.lookup(v)))"
   ]
  },
  {
   "cell_type": "code",
   "execution_count": null,
   "id": "8309e1eb-2fb3-4937-8ac0-bab20513977d",
   "metadata": {},
   "outputs": [],
   "source": [
    "x = tf.strings.unicode_split(sample[1], 'UTF-8')\n",
    "atr.lookup(tf.strings.unicode_split(sample[1], 'UTF-8'))"
   ]
  },
  {
   "cell_type": "code",
   "execution_count": null,
   "id": "280f298b-8c1a-4378-b770-e2b857b2054a",
   "metadata": {},
   "outputs": [],
   "source": [
    "atr.lookup('á'), atr.lookup('í')"
   ]
  },
  {
   "cell_type": "code",
   "execution_count": null,
   "id": "1795dc28-ae7d-48e8-8965-7a0134210626",
   "metadata": {},
   "outputs": [],
   "source": []
  },
  {
   "cell_type": "code",
   "execution_count": null,
   "id": "e39fdc36-1259-4eaf-bcb1-a751e16b2771",
   "metadata": {},
   "outputs": [],
   "source": []
  },
  {
   "cell_type": "code",
   "execution_count": null,
   "id": "6752a8e6-fbbd-4ddf-9e7f-61e9072b06f9",
   "metadata": {},
   "outputs": [],
   "source": []
  }
 ],
 "metadata": {
  "kernelspec": {
   "display_name": "Python 3 (ipykernel)",
   "language": "python",
   "name": "python3"
  },
  "language_info": {
   "codemirror_mode": {
    "name": "ipython",
    "version": 3
   },
   "file_extension": ".py",
   "mimetype": "text/x-python",
   "name": "python",
   "nbconvert_exporter": "python",
   "pygments_lexer": "ipython3",
   "version": "3.9.7"
  }
 },
 "nbformat": 4,
 "nbformat_minor": 5
}

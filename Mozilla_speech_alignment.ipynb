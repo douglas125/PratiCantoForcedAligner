{
 "cells": [
  {
   "cell_type": "markdown",
   "id": "cade1a73-8eb9-40b2-88e0-9c1c4036b0a3",
   "metadata": {},
   "source": [
    "# Reader for Mozilla Common Voices Dataset\n",
    "\n",
    "https://commonvoice.mozilla.org/en/datasets"
   ]
  },
  {
   "cell_type": "code",
   "execution_count": null,
   "id": "2b1463d4-8865-4264-8539-6c64199e51a7",
   "metadata": {},
   "outputs": [],
   "source": [
    "import os\n",
    "import datetime\n",
    "import IPython.display as ipd\n",
    "\n",
    "import tensorflow as tf\n",
    "\n",
    "%load_ext autoreload\n",
    "%autoreload 2\n",
    "\n",
    "from data_readers.mozilla_speech_reader import AudioTarReader  # noqa\n",
    "from models.alignment_model import PraticantoForcedAligner  # noqa\n",
    "from models import alignment_losses  # noqa\n",
    "\n",
    "using_colab = False\n",
    "if using_colab:\n",
    "    %pip install pandas -q\n",
    "    %pip install tqdm -q\n",
    "    %pip install ipywidgets -q\n",
    "    # watch this for the correct version 0.21.0 for tf 2.6, 0.24.0 for tf 2.8\n",
    "    %pip install tensorflow-io==0.24.0 -q\n",
    "\n",
    "os.environ['CUDA_VISIBLE_DEVICES'] = '-1'"
   ]
  },
  {
   "cell_type": "code",
   "execution_count": null,
   "id": "8aec5a72-73e6-45cb-aa37-79a5eee94b08",
   "metadata": {},
   "outputs": [],
   "source": [
    "file = 'data/cv-corpus-8.0-2022-01-19-pt.tar.gz'\n",
    "atr = AudioTarReader(file)"
   ]
  },
  {
   "cell_type": "code",
   "execution_count": null,
   "id": "4f7e1660-020d-4b14-9fca-0f65094c50aa",
   "metadata": {},
   "outputs": [],
   "source": [
    "os.makedirs('data', exist_ok=True)\n",
    "data_file = 'data/validated_not_traintest.tfrecords'\n",
    "if not os.path.isfile(data_file):\n",
    "    atr.write_tfrecords_file(data_file)\n",
    "\n",
    "data_file = 'data/train.tfrecords'\n",
    "if not os.path.isfile(data_file):\n",
    "    atr.write_tfrecords_file(data_file, split='train')"
   ]
  },
  {
   "cell_type": "code",
   "execution_count": null,
   "id": "19aa5a39-6ffd-4e99-9489-ae8418927541",
   "metadata": {},
   "outputs": [],
   "source": [
    "dataset = tf.data.TFRecordDataset(\n",
    "    'data/validated_not_traintest.tfrecords'\n",
    ").map(AudioTarReader.deserialize)"
   ]
  },
  {
   "cell_type": "code",
   "execution_count": null,
   "id": "9b8bc4a6-0bd0-4f84-ba3d-1b7613d24799",
   "metadata": {},
   "outputs": [],
   "source": [
    "sample = [x for x in dataset.skip(3).take(1)][0]"
   ]
  },
  {
   "cell_type": "code",
   "execution_count": null,
   "id": "aa4f4eff-10dc-4710-bb81-a1a86165df19",
   "metadata": {},
   "outputs": [],
   "source": [
    "print(sample[1].numpy().decode('UTF-8'), sample[2:])\n",
    "ipd.Audio(sample[0][:, 0].numpy(), rate=48000)"
   ]
  },
  {
   "cell_type": "markdown",
   "id": "c810f0f2-8d6c-47e5-a6a2-4739165d2038",
   "metadata": {},
   "source": [
    "## Check marked strings\n",
    "\n",
    "Like á, ó, etc"
   ]
  },
  {
   "cell_type": "code",
   "execution_count": null,
   "id": "f1565533-046a-4ace-ac40-534205630495",
   "metadata": {},
   "outputs": [],
   "source": [
    "v = tf.concat([['[BOS]'], tf.strings.unicode_split(sample[1], 'UTF-8'), ['[EOS]']], axis=0)\n",
    "print(atr.lookup(v)), print(atr.lookup_inv(atr.lookup(v)))"
   ]
  },
  {
   "cell_type": "code",
   "execution_count": null,
   "id": "8309e1eb-2fb3-4937-8ac0-bab20513977d",
   "metadata": {},
   "outputs": [],
   "source": [
    "x = tf.strings.unicode_split(sample[1], 'UTF-8')\n",
    "atr.lookup(tf.strings.unicode_split(sample[1], 'UTF-8'))"
   ]
  },
  {
   "cell_type": "code",
   "execution_count": null,
   "id": "280f298b-8c1a-4378-b770-e2b857b2054a",
   "metadata": {},
   "outputs": [],
   "source": [
    "atr.lookup('á'), atr.lookup('í')"
   ]
  },
  {
   "cell_type": "markdown",
   "id": "0a0386ff-3709-4294-b5de-f740a00398eb",
   "metadata": {},
   "source": [
    "# Prep for training"
   ]
  },
  {
   "cell_type": "code",
   "execution_count": null,
   "id": "e39fdc36-1259-4eaf-bcb1-a751e16b2771",
   "metadata": {},
   "outputs": [],
   "source": [
    "pfa = PraticantoForcedAligner(vocab=atr.tokens, sampling_rate=48000, use_cnn=False)\n",
    "alignment_model = pfa.build_models()\n",
    "alignment_model.summary()"
   ]
  },
  {
   "cell_type": "code",
   "execution_count": null,
   "id": "6752a8e6-fbbd-4ddf-9e7f-61e9072b06f9",
   "metadata": {},
   "outputs": [],
   "source": [
    "def prep_inputs(cur_audio, sentence, age, gender):\n",
    "    cur_txt = tf.ensure_shape(sentence, ())\n",
    "    cur_txt = tf.strings.unicode_split(cur_txt, 'UTF-8')\n",
    "    cur_txt = tf.concat([['[BOS]'], cur_txt, ['[EOS]']], axis=0)\n",
    "\n",
    "    shapes = tf.concat([\n",
    "        tf.shape(cur_txt),\n",
    "        1 + (tf.shape(cur_audio[:, 0]) - pfa.frame_length) // pfa.frame_step\n",
    "    ], axis=0)\n",
    "    return cur_txt, cur_audio[:, 0], shapes\n",
    "\n",
    "\n",
    "def prep_batch_inputs(cur_txt, cur_audio, seq_lengths):\n",
    "    return {\n",
    "        'char_seq': cur_txt,\n",
    "        'waveform': cur_audio,\n",
    "    }, seq_lengths"
   ]
  },
  {
   "cell_type": "code",
   "execution_count": null,
   "id": "6419a430-820a-42db-937d-812eccbdee2a",
   "metadata": {},
   "outputs": [],
   "source": [
    "dataset = tf.data.TFRecordDataset(\n",
    "    ['data/validated_not_traintest.tfrecords', 'data/train.tfrecords'],\n",
    "    num_parallel_reads=2,\n",
    ")\n",
    "n_audio_samples = sum([1 for x in dataset])\n",
    "print(f'Training on {n_audio_samples} samples')"
   ]
  },
  {
   "cell_type": "code",
   "execution_count": null,
   "id": "975ad973-007d-4145-acd3-de9d8df63d4b",
   "metadata": {},
   "outputs": [],
   "source": [
    "batch_size = 32\n",
    "dataset = tf.data.TFRecordDataset(\n",
    "    ['data/validated_not_traintest.tfrecords', 'data/train.tfrecords'],\n",
    "    num_parallel_reads=2,\n",
    ")\n",
    "dataset = dataset.shuffle(5 * batch_size + 16).repeat().map(\n",
    "    AudioTarReader.deserialize,\n",
    "    num_parallel_calls=tf.data.AUTOTUNE\n",
    ").map(\n",
    "    prep_inputs,\n",
    "    num_parallel_calls=tf.data.AUTOTUNE\n",
    ").padded_batch(\n",
    "    batch_size, padding_values=('[PAD]', 0.0, 0), drop_remainder=True\n",
    ").map(\n",
    "    prep_batch_inputs,\n",
    "    num_parallel_calls=tf.data.AUTOTUNE\n",
    ").prefetch(tf.data.AUTOTUNE)"
   ]
  },
  {
   "cell_type": "code",
   "execution_count": null,
   "id": "a23c9c8e-54b2-4cc4-addb-92f709b1414a",
   "metadata": {},
   "outputs": [],
   "source": [
    "model_losses = [\n",
    "    alignment_losses.alignment_loss(x)\n",
    "    for x in alignment_losses.possible_losses\n",
    "]\n",
    "print(f'Losses: {model_losses}')\n",
    "\n",
    "alignment_model.compile(\n",
    "    optimizer=tf.keras.optimizers.Adam(\n",
    "        learning_rate=1e-3, clipnorm=0.1, beta_1=0.8, beta_2=0.99, epsilon=0.1),\n",
    "    loss=model_losses[0],\n",
    "    metrics=model_losses[1:],\n",
    ")"
   ]
  },
  {
   "cell_type": "code",
   "execution_count": null,
   "id": "6bb66053-9774-41b2-a63c-ebf5d0997a4f",
   "metadata": {},
   "outputs": [],
   "source": [
    "os.makedirs('checkpoints', exist_ok=True)\n",
    "filepath = 'checkpoints/m_{epoch}_{loss:.3f}.chkpt'\n",
    "chkpt_callback = tf.keras.callbacks.ModelCheckpoint(\n",
    "    filepath, monitor='loss', verbose=1, save_best_only=True,\n",
    "    save_weights_only=True, mode='auto', save_freq='epoch',\n",
    ")\n",
    "\n",
    "\n",
    "def scheduler(epoch, lr):\n",
    "    if epoch <= 50:\n",
    "        return 1e-3\n",
    "    elif epoch <= 150:\n",
    "        return 1e-4\n",
    "    else:\n",
    "        return 2e-5\n",
    "\n",
    "\n",
    "lr_callback = tf.keras.callbacks.LearningRateScheduler(scheduler, verbose=1)\n",
    "\n",
    "reduce_callback = tf.keras.callbacks.ReduceLROnPlateau(\n",
    "    monitor='loss', factor=0.2, patience=10, verbose=1,\n",
    "    mode='auto', min_delta=0.0001, cooldown=0, min_lr=1e-7\n",
    ")\n",
    "\n",
    "log_dir = \"logs/\" + datetime.datetime.now().strftime(\"%Y%m%d-%H%M%S\")\n",
    "tensorboard_callback = tf.keras.callbacks.TensorBoard(log_dir=log_dir)"
   ]
  },
  {
   "cell_type": "code",
   "execution_count": null,
   "id": "232aa838-8339-441f-9d3f-9f9357b94bca",
   "metadata": {},
   "outputs": [],
   "source": [
    "alignment_model.fit(\n",
    "    dataset,\n",
    "    epochs=300,\n",
    "    steps_per_epoch=n_audio_samples // batch_size,\n",
    "    callbacks=[lr_callback, chkpt_callback, tensorboard_callback]\n",
    ")"
   ]
  },
  {
   "cell_type": "code",
   "execution_count": null,
   "id": "874e0024-9bef-4a84-bec0-17826552aa95",
   "metadata": {},
   "outputs": [],
   "source": []
  }
 ],
 "metadata": {
  "kernelspec": {
   "display_name": "Python 3 (ipykernel)",
   "language": "python",
   "name": "python3"
  },
  "language_info": {
   "codemirror_mode": {
    "name": "ipython",
    "version": 3
   },
   "file_extension": ".py",
   "mimetype": "text/x-python",
   "name": "python",
   "nbconvert_exporter": "python",
   "pygments_lexer": "ipython3",
   "version": "3.9.10"
  }
 },
 "nbformat": 4,
 "nbformat_minor": 5
}

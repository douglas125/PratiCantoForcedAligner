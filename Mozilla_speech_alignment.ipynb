{
 "cells": [
  {
   "cell_type": "markdown",
   "id": "cade1a73-8eb9-40b2-88e0-9c1c4036b0a3",
   "metadata": {},
   "source": [
    "# Reader for Mozilla Common Voices Dataset\n",
    "\n",
    "https://commonvoice.mozilla.org/en/datasets"
   ]
  },
  {
   "cell_type": "code",
   "execution_count": null,
   "id": "2b1463d4-8865-4264-8539-6c64199e51a7",
   "metadata": {},
   "outputs": [],
   "source": [
    "import os\n",
    "import IPython.display as ipd\n",
    "\n",
    "import tensorflow as tf\n",
    "\n",
    "from matplotlib import pyplot as plt\n",
    "%matplotlib inline\n",
    "\n",
    "%load_ext autoreload\n",
    "%autoreload 2\n",
    "\n",
    "from data_readers.mozilla_speech_reader import AudioTarReader  # noqa\n",
    "from models.alignment_model import PraticantoForcedAligner  # noqa\n",
    "import models  # noqa\n",
    "\n",
    "using_colab = False\n",
    "if using_colab:\n",
    "    %pip install pandas -q\n",
    "    %pip install tqdm -q\n",
    "    %pip install ipywidgets -q\n",
    "    # watch this for the correct version 0.21.0 for tf 2.6, 0.24.0 for tf 2.8\n",
    "    %pip install tensorflow-io==0.24.0 -q\n",
    "\n",
    "# os.environ['CUDA_VISIBLE_DEVICES'] = '-1'"
   ]
  },
  {
   "cell_type": "code",
   "execution_count": null,
   "id": "8aec5a72-73e6-45cb-aa37-79a5eee94b08",
   "metadata": {},
   "outputs": [],
   "source": [
    "file = 'data/cv-corpus-8.0-2022-01-19-pt.tar.gz'\n",
    "atr = AudioTarReader(file)"
   ]
  },
  {
   "cell_type": "code",
   "execution_count": null,
   "id": "4f7e1660-020d-4b14-9fca-0f65094c50aa",
   "metadata": {},
   "outputs": [],
   "source": [
    "os.makedirs('data', exist_ok=True)\n",
    "data_file = 'data/validated_not_traintest.tfrecords'\n",
    "if not os.path.isfile(data_file):\n",
    "    atr.write_tfrecords_file(data_file)\n",
    "\n",
    "data_file = 'data/train.tfrecords'\n",
    "if not os.path.isfile(data_file):\n",
    "    atr.write_tfrecords_file(data_file, split='train')"
   ]
  },
  {
   "cell_type": "code",
   "execution_count": null,
   "id": "19aa5a39-6ffd-4e99-9489-ae8418927541",
   "metadata": {},
   "outputs": [],
   "source": [
    "dataset = tf.data.TFRecordDataset(\n",
    "    'data/validated_not_traintest.tfrecords'\n",
    ").map(AudioTarReader.deserialize)"
   ]
  },
  {
   "cell_type": "code",
   "execution_count": null,
   "id": "9b8bc4a6-0bd0-4f84-ba3d-1b7613d24799",
   "metadata": {},
   "outputs": [],
   "source": [
    "sample = [x for x in dataset.skip(3).take(1)][0]"
   ]
  },
  {
   "cell_type": "code",
   "execution_count": null,
   "id": "aa4f4eff-10dc-4710-bb81-a1a86165df19",
   "metadata": {},
   "outputs": [],
   "source": [
    "print(sample[1].numpy().decode('UTF-8'), sample[2:])\n",
    "ipd.Audio(sample[0][:, 0].numpy(), rate=48000)"
   ]
  },
  {
   "cell_type": "markdown",
   "id": "c810f0f2-8d6c-47e5-a6a2-4739165d2038",
   "metadata": {},
   "source": [
    "## Check marked strings\n",
    "\n",
    "Like á, ó, etc"
   ]
  },
  {
   "cell_type": "code",
   "execution_count": null,
   "id": "f1565533-046a-4ace-ac40-534205630495",
   "metadata": {},
   "outputs": [],
   "source": [
    "v = tf.concat([['[BOS]'], tf.strings.unicode_split(sample[1], 'UTF-8'), ['[EOS]']], axis=0)\n",
    "print(atr.lookup(v)), print(atr.lookup_inv(atr.lookup(v)))"
   ]
  },
  {
   "cell_type": "code",
   "execution_count": null,
   "id": "8309e1eb-2fb3-4937-8ac0-bab20513977d",
   "metadata": {},
   "outputs": [],
   "source": [
    "x = tf.strings.unicode_split(sample[1], 'UTF-8')\n",
    "atr.lookup(tf.strings.unicode_split(sample[1], 'UTF-8'))"
   ]
  },
  {
   "cell_type": "code",
   "execution_count": null,
   "id": "280f298b-8c1a-4378-b770-e2b857b2054a",
   "metadata": {},
   "outputs": [],
   "source": [
    "atr.lookup('á'), atr.lookup('í')"
   ]
  },
  {
   "cell_type": "markdown",
   "id": "0a0386ff-3709-4294-b5de-f740a00398eb",
   "metadata": {},
   "source": [
    "# Prep for training"
   ]
  },
  {
   "cell_type": "code",
   "execution_count": null,
   "id": "e39fdc36-1259-4eaf-bcb1-a751e16b2771",
   "metadata": {},
   "outputs": [],
   "source": [
    "pfa = PraticantoForcedAligner(vocab=atr.tokens, sampling_rate=48000, use_cnn=False)\n",
    "alignment_model = pfa.build_models()\n",
    "alignment_model.summary()"
   ]
  },
  {
   "cell_type": "code",
   "execution_count": null,
   "id": "b0c4ca60-02fc-4a94-b223-04851b3f72ac",
   "metadata": {},
   "outputs": [],
   "source": [
    "def prep_batch_inputs(cur_txt, cur_audio, seq_lengths):\n",
    "    return {\n",
    "        \"char_seq\": cur_txt,\n",
    "        \"waveform\": cur_audio,\n",
    "    }, seq_lengths\n",
    "\n",
    "\n",
    "def prep_inputs(cur_audio, sentence, age, gender):\n",
    "    cur_txt = tf.ensure_shape(sentence, ())\n",
    "    cur_txt = tf.strings.unicode_split(cur_txt, 'UTF-8')\n",
    "    cur_txt = tf.concat([[\"[BOS]\"], cur_txt, [\"[EOS]\"]], axis=0)\n",
    "\n",
    "    shapes = tf.concat(\n",
    "        [\n",
    "            tf.shape(cur_txt),\n",
    "            1 + (tf.shape(cur_audio[:, 0]) - pfa.frame_length) // pfa.frame_step,\n",
    "        ],\n",
    "        axis=0,\n",
    "    )\n",
    "    return cur_txt, cur_audio[:, 0], shapes"
   ]
  },
  {
   "cell_type": "code",
   "execution_count": null,
   "id": "f37f36a9-be9b-41b5-85ab-eb4e8c676297",
   "metadata": {},
   "outputs": [],
   "source": [
    "batch_size = 8\n",
    "dataset = tf.data.TFRecordDataset(\n",
    "    [\"data/validated_not_traintest.tfrecords\", \"data/train.tfrecords\"],\n",
    "    num_parallel_reads=2,\n",
    ")\n",
    "dataset = (\n",
    "    dataset\n",
    "    .map(AudioTarReader.deserialize, num_parallel_calls=tf.data.AUTOTUNE)\n",
    "    .map(prep_inputs, num_parallel_calls=tf.data.AUTOTUNE)\n",
    "    .padded_batch(batch_size, padding_values=(\"[PAD]\", 0.0, 0), drop_remainder=True)\n",
    "    .map(prep_batch_inputs, num_parallel_calls=tf.data.AUTOTUNE)\n",
    "    .prefetch(tf.data.AUTOTUNE)\n",
    ")"
   ]
  },
  {
   "cell_type": "markdown",
   "id": "b39c8799-0bce-499f-b18f-4be51730cf00",
   "metadata": {},
   "source": [
    "# Check results"
   ]
  },
  {
   "cell_type": "code",
   "execution_count": null,
   "id": "108fd6d7-00d3-42c7-8ebb-bddbfd38c485",
   "metadata": {},
   "outputs": [],
   "source": [
    "alignment_model.load_weights('checkpoints/m_54_0.181.chkpt')"
   ]
  },
  {
   "cell_type": "code",
   "execution_count": null,
   "id": "aafbe7c0-391a-4a33-bc61-15b4d69bc609",
   "metadata": {},
   "outputs": [],
   "source": [
    "m_spec = models.alignment_model.get_spectrogram_model()\n",
    "m_logmel = models.alignment_model.get_melspec_model()"
   ]
  },
  {
   "cell_type": "code",
   "execution_count": null,
   "id": "990eba09-28fa-43f6-aebe-8e188a894162",
   "metadata": {},
   "outputs": [],
   "source": [
    "samples = [x for x in dataset.take(1)]"
   ]
  },
  {
   "cell_type": "code",
   "execution_count": null,
   "id": "34e1d7cf-b4c6-44cf-b16b-562eeb3e3d85",
   "metadata": {},
   "outputs": [],
   "source": [
    "preds = alignment_model(samples[0][0])\n",
    "padded_char_len = preds.shape[1]\n",
    "preds.shape, samples[0][1].shape"
   ]
  },
  {
   "cell_type": "code",
   "execution_count": null,
   "id": "6898e7a2-591c-48a9-8d36-2647bd537644",
   "metadata": {},
   "outputs": [],
   "source": [
    "idx = 0\n",
    "unpadded_lens = samples[0][1][idx]\n",
    "char_len = unpadded_lens[0].numpy()\n",
    "spec_len = unpadded_lens[1].numpy()\n",
    "print('Unpadded:', unpadded_lens)\n",
    "\n",
    "xmax = spec_len\n",
    "\n",
    "plt.figure(figsize=(15, 6))\n",
    "# for k in range(0, padded_char_len):\n",
    "# for k in range(0, 15):\n",
    "# for k in [0, 1, 2, 3, 4, 5, 6, 7, 8, -2, -1]:\n",
    "# for k in [0, 1, 2, -2, -1]:\n",
    "for k in range(0, char_len, 1):\n",
    "    plt.plot(preds[idx, k, 0:spec_len].numpy(), label=str(k))\n",
    "    # plt.plot(preds[idx, k, :].numpy())\n",
    "    plt.ylim(0, 1)\n",
    "    # plt.show()\n",
    "# plt.legend()\n",
    "plt.xlim(0, xmax)\n",
    "\n",
    "\n",
    "audio_data = samples[0][0]['waveform'][idx]\n",
    "txt_data = tf.strings.join(samples[0][0]['char_seq'][idx]).numpy().decode('UTF-8').replace('[PAD]', '')\n",
    "\n",
    "logmel = m_logmel(tf.expand_dims(\n",
    "    audio_data, axis=0)\n",
    ")\n",
    "print(logmel.shape, txt_data)\n",
    "# t = tf.cast(tf.range(0, logmel.shape[1]), tf.float32) * 256.0 / tf.cast(sr, tf.float32)\n",
    "# mels = tf.range(0, logmel.shape[2], delta=1)\n",
    "plt.figure(figsize=(15, 6))\n",
    "plt.pcolormesh(\n",
    "    # t.numpy(),\n",
    "    # mels.numpy(),\n",
    "    tf.transpose(logmel[0]).numpy()\n",
    ")\n",
    "plt.xlim(0, xmax)\n",
    "\n",
    "plt.show()"
   ]
  },
  {
   "cell_type": "code",
   "execution_count": null,
   "id": "5acff608-97e3-457d-9bd6-49dbeaf162bf",
   "metadata": {},
   "outputs": [],
   "source": []
  },
  {
   "cell_type": "code",
   "execution_count": null,
   "id": "629d9ed2-4710-4260-b831-588758ddb7f3",
   "metadata": {},
   "outputs": [],
   "source": []
  }
 ],
 "metadata": {
  "kernelspec": {
   "display_name": "Python 3 (ipykernel)",
   "language": "python",
   "name": "python3"
  },
  "language_info": {
   "codemirror_mode": {
    "name": "ipython",
    "version": 3
   },
   "file_extension": ".py",
   "mimetype": "text/x-python",
   "name": "python",
   "nbconvert_exporter": "python",
   "pygments_lexer": "ipython3",
   "version": "3.9.10"
  }
 },
 "nbformat": 4,
 "nbformat_minor": 5
}
